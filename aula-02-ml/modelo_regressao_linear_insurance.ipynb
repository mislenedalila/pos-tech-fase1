{
 "cells": [
  {
   "cell_type": "markdown",
   "id": "d8e6604e",
   "metadata": {},
   "source": [
    "# 📘 Modelo Preditivo com Regressão Linear\n",
    "Este notebook mostra como construir um modelo preditivo usando regressão linear com o conjunto de dados `insurance.csv`, além de avaliar seu desempenho com métricas estatísticas."
   ]
  },
  {
   "cell_type": "code",
   "execution_count": null,
   "id": "d4304275",
   "metadata": {},
   "outputs": [],
   "source": [
    "import pandas as pd\n",
    "from sklearn.model_selection import train_test_split\n",
    "from sklearn.linear_model import LinearRegression\n",
    "from sklearn.metrics import mean_squared_error, mean_absolute_error, r2_score\n",
    "from sklearn.preprocessing import LabelEncoder"
   ]
  },
  {
   "cell_type": "markdown",
   "id": "d9011432",
   "metadata": {},
   "source": [
    "## 1. Carregando os dados"
   ]
  },
  {
   "cell_type": "code",
   "execution_count": null,
   "id": "9842d543",
   "metadata": {},
   "outputs": [],
   "source": [
    "# Carrega o dataset\n",
    "df = pd.read_csv(\"insurance.csv\")\n",
    "df.head()"
   ]
  },
  {
   "cell_type": "markdown",
   "id": "6a4e5659",
   "metadata": {},
   "source": [
    "## 2. Pré-processamento: codificação de variáveis categóricas"
   ]
  },
  {
   "cell_type": "code",
   "execution_count": null,
   "id": "e3c7ca41",
   "metadata": {},
   "outputs": [],
   "source": [
    "# Converte colunas categóricas para valores numéricos\n",
    "le = LabelEncoder()\n",
    "df['sex'] = le.fit_transform(df['sex'])\n",
    "df['smoker'] = le.fit_transform(df['smoker'])\n",
    "df['region'] = le.fit_transform(df['region'])"
   ]
  },
  {
   "cell_type": "markdown",
   "id": "f9caf13d",
   "metadata": {},
   "source": [
    "## 3. Separando variáveis independentes e dependente"
   ]
  },
  {
   "cell_type": "code",
   "execution_count": null,
   "id": "608b7b47",
   "metadata": {},
   "outputs": [],
   "source": [
    "# X são os atributos; y é a variável alvo\n",
    "X = df.drop(\"charges\", axis=1)\n",
    "y = df[\"charges\"]"
   ]
  },
  {
   "cell_type": "markdown",
   "id": "ab325c64",
   "metadata": {},
   "source": [
    "## 4. Dividindo os dados em treino e teste"
   ]
  },
  {
   "cell_type": "code",
   "execution_count": null,
   "id": "cece83e6",
   "metadata": {},
   "outputs": [],
   "source": [
    "# Divide o conjunto em 80% treino e 20% teste\n",
    "X_train, X_test, y_train, y_test = train_test_split(X, y, test_size=0.2, random_state=42)"
   ]
  },
  {
   "cell_type": "markdown",
   "id": "d2d97a34",
   "metadata": {},
   "source": [
    "## 5. Criando e treinando o modelo"
   ]
  },
  {
   "cell_type": "code",
   "execution_count": null,
   "id": "59f87802",
   "metadata": {},
   "outputs": [],
   "source": [
    "# Cria e treina o modelo de Regressão Linear\n",
    "modelo = LinearRegression()\n",
    "modelo.fit(X_train, y_train)"
   ]
  },
  {
   "cell_type": "markdown",
   "id": "381106b5",
   "metadata": {},
   "source": [
    "## 6. Fazendo previsões"
   ]
  },
  {
   "cell_type": "code",
   "execution_count": null,
   "id": "d5f2deeb",
   "metadata": {},
   "outputs": [],
   "source": [
    "# Gera previsões com o modelo treinado\n",
    "y_pred = modelo.predict(X_test)"
   ]
  },
  {
   "cell_type": "markdown",
   "id": "544f4971",
   "metadata": {},
   "source": [
    "## 7. Calculando métricas de avaliação"
   ]
  },
  {
   "cell_type": "code",
   "execution_count": null,
   "id": "b7a022c7",
   "metadata": {},
   "outputs": [],
   "source": [
    "# Calcula as métricas estatísticas\n",
    "mse = mean_squared_error(y_test, y_pred)\n",
    "mae = mean_absolute_error(y_test, y_pred)\n",
    "r2 = r2_score(y_test, y_pred)"
   ]
  },
  {
   "cell_type": "markdown",
   "id": "214b332a",
   "metadata": {},
   "source": [
    "## 8. Exibindo os resultados"
   ]
  },
  {
   "cell_type": "code",
   "execution_count": null,
   "id": "e0d6fd76",
   "metadata": {},
   "outputs": [],
   "source": [
    "# Exibe as métricas no console\n",
    "print(\"📊 Métricas do modelo:\")\n",
    "print(f\"➡️ Mean Squared Error (MSE): {mse:.2f}\")\n",
    "print(f\"➡️ Mean Absolute Error (MAE): {mae:.2f}\")\n",
    "print(f\"➡️ R² Score: {r2:.4f}\")"
   ]
  }
 ],
 "metadata": {},
 "nbformat": 4,
 "nbformat_minor": 5
}
